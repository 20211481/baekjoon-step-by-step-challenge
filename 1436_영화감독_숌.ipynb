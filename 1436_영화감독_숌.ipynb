{
  "nbformat": 4,
  "nbformat_minor": 0,
  "metadata": {
    "colab": {
      "name": "1436_영화감독 숌.ipynb",
      "provenance": [],
      "collapsed_sections": [],
      "authorship_tag": "ABX9TyN/JdKlcVpbpMJZSUka5gFV",
      "include_colab_link": true
    },
    "kernelspec": {
      "name": "python3",
      "display_name": "Python 3"
    }
  },
  "cells": [
    {
      "cell_type": "markdown",
      "metadata": {
        "id": "view-in-github",
        "colab_type": "text"
      },
      "source": [
        "<a href=\"https://colab.research.google.com/github/hanbba92/baekjoon-step-by-step-challenge/blob/master/1436_%EC%98%81%ED%99%94%EA%B0%90%EB%8F%85_%EC%88%8C.ipynb\" target=\"_parent\"><img src=\"https://colab.research.google.com/assets/colab-badge.svg\" alt=\"Open In Colab\"/></a>"
      ]
    },
    {
      "cell_type": "markdown",
      "metadata": {
        "id": "Dl3Rp6Es3AM8",
        "colab_type": "text"
      },
      "source": [
        "[문제링크](https://www.acmicpc.net/problem/1436)"
      ]
    },
    {
      "cell_type": "code",
      "metadata": {
        "id": "h-jZBtOv3K0x",
        "colab_type": "code",
        "colab": {}
      },
      "source": [
        "n=int(input())# 인풋\n",
        "num_list=[\"666\"]#첫번째 종말 수 미리 넣기\n",
        "starting_number=\"1666\" # 두번째 종말 수 문자 타입인 이유는 666이 들어가있는지 비교하려면 리스트형태로 비교해야 하니까 문자열을 사용해야 함.\n",
        "while 1:\n",
        "    if len(num_list)==n: #만약 종말수가 n번째가 되면 프린트\n",
        "        print(num_list[-1])\n",
        "        break\n",
        "    if \"666\" in starting_number: #666이 스타팅넘버에 들어있으면 종말수니까 리스트 집어넣기\n",
        "        num_list+=[starting_number]\n",
        "    starting_number=str(int(starting_number)+1) #스타팅 넘버 새로고침, 1개 더커지게 "
      ],
      "execution_count": null,
      "outputs": []
    }
  ]
}