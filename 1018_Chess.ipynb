{
  "nbformat": 4,
  "nbformat_minor": 0,
  "metadata": {
    "colab": {
      "name": "1018_Chess.ipynb",
      "provenance": [],
      "authorship_tag": "ABX9TyOd3LljAZGnVouSOO26zIf6",
      "include_colab_link": true
    },
    "kernelspec": {
      "name": "python3",
      "display_name": "Python 3"
    }
  },
  "cells": [
    {
      "cell_type": "markdown",
      "metadata": {
        "id": "view-in-github",
        "colab_type": "text"
      },
      "source": [
        "<a href=\"https://colab.research.google.com/github/hanbba92/baekjoon-step-by-step-challenge/blob/master/1018_Chess.ipynb\" target=\"_parent\"><img src=\"https://colab.research.google.com/assets/colab-badge.svg\" alt=\"Open In Colab\"/></a>"
      ]
    },
    {
      "cell_type": "code",
      "metadata": {
        "id": "YX6gH4OSq-vy",
        "colab_type": "code",
        "colab": {
          "base_uri": "https://localhost:8080/",
          "height": 69
        },
        "outputId": "3dbf9295-e0b8-4494-b885-52b3a5cdc95a"
      },
      "source": [
        "N,M=map(int,input().split())\n",
        "chess=[]\n",
        "for row in range(N):\n",
        "  row=[]\n",
        "  row_BW=input()\n",
        "  for col in range(M):\n",
        "    if row_BW[col]==\"B\":\n",
        "      row+=[-1]\n",
        "    else: row+=[1]\n",
        "  chess+=[row]\n",
        "\n",
        "\n"
      ],
      "execution_count": 2,
      "outputs": [
        {
          "output_type": "stream",
          "text": [
            "2 2\n",
            "BW\n",
            "BB\n"
          ],
          "name": "stdout"
        }
      ]
    },
    {
      "cell_type": "code",
      "metadata": {
        "id": "zldwZEmwsN69",
        "colab_type": "code",
        "colab": {
          "base_uri": "https://localhost:8080/",
          "height": 34
        },
        "outputId": "f4626e37-c96b-4786-8646-617f4ed1c0d0"
      },
      "source": [
        "chess"
      ],
      "execution_count": 3,
      "outputs": [
        {
          "output_type": "execute_result",
          "data": {
            "text/plain": [
              "[[-1, 1], [-1, -1]]"
            ]
          },
          "metadata": {
            "tags": []
          },
          "execution_count": 3
        }
      ]
    },
    {
      "cell_type": "code",
      "metadata": {
        "id": "NSCNTTLWsVQg",
        "colab_type": "code",
        "colab": {}
      },
      "source": [
        "import pandas as pd\n",
        "df=pd.DataFrame(chess)"
      ],
      "execution_count": 7,
      "outputs": []
    },
    {
      "cell_type": "code",
      "metadata": {
        "id": "EAFmskTRsfn5",
        "colab_type": "code",
        "colab": {
          "base_uri": "https://localhost:8080/",
          "height": 112
        },
        "outputId": "e4d12bd7-6deb-4763-e1b4-8a4e7f5a7b48"
      },
      "source": [
        "df"
      ],
      "execution_count": 8,
      "outputs": [
        {
          "output_type": "execute_result",
          "data": {
            "text/html": [
              "<div>\n",
              "<style scoped>\n",
              "    .dataframe tbody tr th:only-of-type {\n",
              "        vertical-align: middle;\n",
              "    }\n",
              "\n",
              "    .dataframe tbody tr th {\n",
              "        vertical-align: top;\n",
              "    }\n",
              "\n",
              "    .dataframe thead th {\n",
              "        text-align: right;\n",
              "    }\n",
              "</style>\n",
              "<table border=\"1\" class=\"dataframe\">\n",
              "  <thead>\n",
              "    <tr style=\"text-align: right;\">\n",
              "      <th></th>\n",
              "      <th>0</th>\n",
              "      <th>1</th>\n",
              "    </tr>\n",
              "  </thead>\n",
              "  <tbody>\n",
              "    <tr>\n",
              "      <th>0</th>\n",
              "      <td>-1</td>\n",
              "      <td>1</td>\n",
              "    </tr>\n",
              "    <tr>\n",
              "      <th>1</th>\n",
              "      <td>-1</td>\n",
              "      <td>-1</td>\n",
              "    </tr>\n",
              "  </tbody>\n",
              "</table>\n",
              "</div>"
            ],
            "text/plain": [
              "   0  1\n",
              "0 -1  1\n",
              "1 -1 -1"
            ]
          },
          "metadata": {
            "tags": []
          },
          "execution_count": 8
        }
      ]
    },
    {
      "cell_type": "code",
      "metadata": {
        "colab_type": "code",
        "id": "LxmS3jSjs8a1",
        "colab": {
          "base_uri": "https://localhost:8080/",
          "height": 225
        },
        "outputId": "9720e6ce-3cbe-461f-e8e5-d58bf88e99a6"
      },
      "source": [
        "N,M=map(int,input().split())# 테스트 케이스 받기 \n",
        "chess=[]# 입력 체스판\n",
        "w_chess=[] # 흰색이 시작하는 체스판\n",
        "for i in range(4):#체스판 만들기\n",
        "  w_chess+=[[\"W\",\"B\",\"W\",\"B\",\"W\",\"B\",\"W\",\"B\"]]\n",
        "  w_chess+=[[\"B\",\"W\",\"B\",\"W\",\"B\",\"W\",\"B\",\"W\"]]\n",
        "b_chess=[]# 동일\n",
        "for i in range(4): #동일\n",
        "  b_chess+=[[\"B\",\"W\",\"B\",\"W\",\"B\",\"W\",\"B\",\"W\"]]\n",
        "  b_chess+=[[\"W\",\"B\",\"W\",\"B\",\"W\",\"B\",\"W\",\"B\"]]\n",
        "for row in range(N): #입력 받기\n",
        "  row=[]\n",
        "  row_BW=input()\n",
        "  for color in row_BW: #한줄씩 받은 입력을 색깔 한칸씩 나눠서 넣기\n",
        "    row+=[color]\n",
        "  chess+=[row]\n",
        "\n",
        "chessboards=[] # 바꿔야 되는 숫자 넣을 리스트\n",
        "\n",
        "for row in range((N-8)+1): # 8대8 사이즈의 체스판으로 나눌 수 있는 경우의 수 행 \n",
        "  for col in range((M-8)+1): #동일 열\n",
        "    w_sum=0 #흰색판과 비교\n",
        "    b_sum=0 #검은판과 비교\n",
        "    for row_2, board in enumerate(chess[0+row:8+row]): #경우 수로 자른 판의 행\n",
        "      for col_2,color in enumerate(board[0+col:8+col]): #동일 열\n",
        "        if color!=b_chess[row_2][col_2]: #만약 자른 판의 각 칸의 색 검은 체스판의 같은 자리의 색깔과 다를 때 바꿔야되니까 1 추가\n",
        "          b_sum+=1\n",
        "        if color!=w_chess[row_2][col_2]: #동일\n",
        "          w_sum+=1\n",
        "    chessboards+=[min(w_sum,b_sum)] #흰판과 검은판 두가지 다 비교했을 때 가장 적게 바꿔도 되는 판의 수를 넣기\n",
        "\n",
        "print(min(chessboards)) #바꿔야되는 숫자에서 가장 적은 수 출력\n",
        "\n",
        "\n"
      ],
      "execution_count": 5,
      "outputs": [
        {
          "output_type": "stream",
          "text": [
            "10 13\n",
            "BBBBBBBBWBWBW\n",
            "BBBBBBBBBWBWB\n",
            "BBBBBBBBWBWBW\n",
            "BBBBBBBBBWBWB\n",
            "BBBBBBBBWBWBW\n",
            "BBBBBBBBBWBWB\n",
            "BBBBBBBBWBWBW\n",
            "BBBBBBBBBWBWB\n",
            "WWWWWWWWWWBWB\n",
            "WWWWWWWWWWBWB\n",
            "12\n"
          ],
          "name": "stdout"
        }
      ]
    },
    {
      "cell_type": "code",
      "metadata": {
        "id": "hKAv8fkXG-qU",
        "colab_type": "code",
        "colab": {}
      },
      "source": [
        "#숏코딩 입니다. \n",
        "\n",
        "r=range\n",
        "n,m,*a=open(0).read().split() #이거 어떻게 된건지 모르겠네요. ㅜㅜ\n",
        "n,m=int(n),int(m)\n",
        "x=64\n",
        "for i in r(n-7):\n",
        " for j in r(m-7):\n",
        "  y=0\n",
        "  for p in r(8):q=0;exec(8*\"y+=[0,1][a[i+p][j+q]==['W','B'][q%2==p%2]];q+=1;\")\n",
        "  x=min(64-y,y,x)\n",
        "print(x)"
      ],
      "execution_count": null,
      "outputs": []
    }
  ]
}