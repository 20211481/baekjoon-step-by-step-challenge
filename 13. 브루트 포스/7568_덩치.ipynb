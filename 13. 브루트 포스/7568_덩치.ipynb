{
  "nbformat": 4,
  "nbformat_minor": 0,
  "metadata": {
    "colab": {
      "name": "7568-덩치.ipynb",
      "provenance": [],
      "collapsed_sections": [],
      "authorship_tag": "ABX9TyM+QWLkIDtPM5fGKQBVuAoA",
      "include_colab_link": true
    },
    "kernelspec": {
      "name": "python3",
      "display_name": "Python 3"
    }
  },
  "cells": [
    {
      "cell_type": "markdown",
      "metadata": {
        "id": "view-in-github",
        "colab_type": "text"
      },
      "source": [
        "<a href=\"https://colab.research.google.com/github/hanbba92/baekjoon-step-by-step-challenge/blob/master/7568_%EB%8D%A9%EC%B9%98.ipynb\" target=\"_parent\"><img src=\"https://colab.research.google.com/assets/colab-badge.svg\" alt=\"Open In Colab\"/></a>"
      ]
    },
    {
      "cell_type": "markdown",
      "metadata": {
        "id": "CCDC7Zs3Z_Ky",
        "colab_type": "text"
      },
      "source": [
        "[문제링크](https://www.acmicpc.net/problem/7568)"
      ]
    },
    {
      "cell_type": "markdown",
      "metadata": {
        "id": "8KbijoW5aID6",
        "colab_type": "text"
      },
      "source": [
        "문제에서 3n"
      ]
    },
    {
      "cell_type": "code",
      "metadata": {
        "id": "jyor4TyMZ5ek",
        "colab_type": "code",
        "colab": {
          "base_uri": "https://localhost:8080/",
          "height": 121
        },
        "outputId": "efc682c7-778d-497e-d5d2-ffde2b0a4058"
      },
      "source": [
        "N=int(input()) # 전체 사람 수\n",
        "size=[] # 사이즈 리스트\n",
        "record=[1]*N #등수\n",
        "checked_person=set() #확인한 사람이 추가될 세트\n",
        "for i in range(N):\n",
        "  a,b=map(int,input().split())\n",
        "  size+=[(a,b)] #리스트에 추가\n",
        "\n"
      ],
      "execution_count": 14,
      "outputs": [
        {
          "output_type": "stream",
          "text": [
            "5\n",
            "55 185\n",
            "58 183\n",
            "88 186\n",
            "60 175\n",
            "46 155\n"
          ],
          "name": "stdout"
        }
      ]
    },
    {
      "cell_type": "code",
      "metadata": {
        "id": "0z5My2lVbTIm",
        "colab_type": "code",
        "colab": {
          "base_uri": "https://localhost:8080/",
          "height": 34
        },
        "outputId": "e6f5c035-b88d-4439-be98-f80216e2ed44"
      },
      "source": [
        "for nth, base in enumerate(size):\n",
        "  for compare in size:\n",
        "    if base==compare:\n",
        "      continue\n",
        "    if base[0]< compare[0] and base[1]<compare[1]:\n", #키와 몸무게 두가지 다 작을 때\n",
        "        record[nth]+=1\n",
        "for i in record:\n",
        "  print(i, end=\" \")\n",
        "\n",
        "    \n",
        "  "
      ],
      "execution_count": 20,
      "outputs": [
        {
          "output_type": "stream",
          "text": [
            "2 2 1 2 5 "
          ],
          "name": "stdout"
        }
      ]
    },
    {
      "cell_type": "code",
      "metadata": {
        "id": "KD8IRcq_evXg",
        "colab_type": "code",
        "colab": {}
      },
      "source": [
        "record=[1]*5"
      ],
      "execution_count": 19,
      "outputs": []
    },
    {
      "cell_type": "code",
      "metadata": {
        "id": "3UQz9RJsfPvu",
        "colab_type": "code",
        "colab": {}
      },
      "source": [
        ""
      ],
      "execution_count": null,
      "outputs": []
    }
  ]
}
